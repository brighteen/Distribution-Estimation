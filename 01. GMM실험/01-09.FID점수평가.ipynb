{
 "cells": [
  {
   "cell_type": "code",
   "execution_count": 3,
   "id": "0aa8b9fd",
   "metadata": {},
   "outputs": [
    {
     "name": "stdout",
     "output_type": "stream",
     "text": [
      "--- 1단계: 전체 잠재 벡터 추출 및 저장 시작 ---\n"
     ]
    },
    {
     "name": "stderr",
     "output_type": "stream",
     "text": [
      "/tmp/ipykernel_2737016/1884837042.py:54: FutureWarning: You are using `torch.load` with `weights_only=False` (the current default value), which uses the default pickle module implicitly. It is possible to construct malicious pickle data which will execute arbitrary code during unpickling (See https://github.com/pytorch/pytorch/blob/main/SECURITY.md#untrusted-models for more details). In a future release, the default value for `weights_only` will be flipped to `True`. This limits the functions that could be executed during unpickling. Arbitrary objects will no longer be allowed to be loaded via this mode unless they are explicitly allowlisted by the user via `torch.serialization.add_safe_globals`. We recommend you start setting `weights_only=True` for any use case where you don't have full control of the loaded file. Please open an issue on GitHub for any issues related to this experimental feature.\n",
      "  encoder.load_state_dict(torch.load(ENCODER_PATH, map_location=DEVICE))\n"
     ]
    },
    {
     "data": {
      "application/vnd.jupyter.widget-view+json": {
       "model_id": "792e8d532c0b473983fba28114b23c8d",
       "version_major": 2,
       "version_minor": 0
      },
      "text/plain": [
       "전체 잠재 벡터 추출 중:   0%|          | 0/235 [00:00<?, ?it/s]"
      ]
     },
     "metadata": {},
     "output_type": "display_data"
    },
    {
     "name": "stdout",
     "output_type": "stream",
     "text": [
      "\n",
      "총 30000개의 잠재 벡터 추출 완료 (차원: 256)\n",
      "저장 완료! -> /home/nas/data/YMG/superdeep_ae/my_checkpoints/real_latent_vectors_full.pt\n"
     ]
    }
   ],
   "source": [
    "# --- 파일명: 1_extract_full_latents.py (수정됨) ---\n",
    "\n",
    "import os\n",
    "import torch\n",
    "from torch.utils.data import DataLoader, Dataset\n",
    "from torchvision import transforms\n",
    "from tqdm.auto import tqdm\n",
    "from PIL import Image # PIL 라이브러리 추가\n",
    "\n",
    "# --- 기존 코드에서 모델/데이터셋 클래스 정의 가져오기 ---\n",
    "class ResBlock(torch.nn.Module):\n",
    "    def __init__(self, in_channels, out_channels):\n",
    "        super().__init__()\n",
    "        self.block = torch.nn.Sequential(torch.nn.Conv2d(in_channels, out_channels, 3, 1, 1), torch.nn.BatchNorm2d(out_channels), torch.nn.SiLU(), torch.nn.Conv2d(out_channels, out_channels, 3, 1, 1), torch.nn.BatchNorm2d(out_channels))\n",
    "        self.shortcut = torch.nn.Conv2d(in_channels, out_channels, 1) if in_channels != out_channels else torch.nn.Identity()\n",
    "        self.silu = torch.nn.SiLU()\n",
    "    def forward(self, x): return self.silu(self.block(x) + self.shortcut(x))\n",
    "\n",
    "class EncoderSuperDeep(torch.nn.Module):\n",
    "    def __init__(self, in_channels=3, base_channels=128, latent_channels=1):\n",
    "        super().__init__()\n",
    "        self.encoder = torch.nn.Sequential(torch.nn.Conv2d(in_channels, base_channels, 3, 1, 1), ResBlock(base_channels, base_channels), torch.nn.Conv2d(base_channels, base_channels*2, 3, 2, 1), ResBlock(base_channels*2, base_channels*2), torch.nn.Conv2d(base_channels*2, base_channels*4, 3, 2, 1), ResBlock(base_channels*4, base_channels*4), torch.nn.Conv2d(base_channels*4, base_channels*8, 3, 2, 1), ResBlock(base_channels*8, base_channels*8), torch.nn.Conv2d(base_channels*8, base_channels*16, 3, 2, 1), ResBlock(base_channels*16, base_channels*16), torch.nn.Conv2d(base_channels*16, 2 * latent_channels, 3, 1, 1))\n",
    "    def forward(self, x):\n",
    "        x = self.encoder(x)\n",
    "        mu, log_var = torch.chunk(x, 2, dim=1)\n",
    "        return mu, log_var\n",
    "        \n",
    "class CustomImageDataset(Dataset):\n",
    "    def __init__(self, root_dir, transform=None):\n",
    "        self.paths = sorted([os.path.join(root_dir, f) for f in os.listdir(root_dir) if f.lower().endswith(('.jpg','.jpeg','.png'))])\n",
    "        self.transform = transform\n",
    "    def __len__(self): return len(self.paths)\n",
    "    \n",
    "    # --- 수정된 __getitem__ 메소드 ---\n",
    "    def __getitem__(self, idx):\n",
    "        # torch.load() 대신 Image.open()을 사용해야 합니다.\n",
    "        img = Image.open(self.paths[idx]).convert('RGB') \n",
    "        if self.transform:\n",
    "            img = self.transform(img)\n",
    "        return img, self.paths[idx]\n",
    "\n",
    "def extract_and_save_latents():\n",
    "    print(\"--- 1단계: 전체 잠재 벡터 추출 및 저장 시작 ---\")\n",
    "    DEVICE = torch.device(\"cuda:2\" if torch.cuda.is_available() else \"cpu\")\n",
    "    DATA_DIR = '/home/nas/data/YMG/datas/celeba_hq_256/'\n",
    "    AE_CHECKPOINT_DIR = '/home/nas/data/YMG/superdeep_ae/checkpoints/'\n",
    "    ENCODER_PATH = os.path.join(AE_CHECKPOINT_DIR, 'encoder_superdeep_best.pth')\n",
    "    \n",
    "    OUTPUT_DIR = '/home/nas/data/YMG/superdeep_ae/my_checkpoints/'\n",
    "    os.makedirs(OUTPUT_DIR, exist_ok=True)\n",
    "    LATENT_VECTORS_PATH = os.path.join(OUTPUT_DIR, 'real_latent_vectors_full.pt')\n",
    "\n",
    "    encoder = EncoderSuperDeep().to(DEVICE)\n",
    "    encoder.load_state_dict(torch.load(ENCODER_PATH, map_location=DEVICE))\n",
    "    encoder.eval()\n",
    "\n",
    "    transform = transforms.Compose([transforms.Resize((256, 256)), transforms.ToTensor(), transforms.Normalize(mean=[0.5], std=[0.5])])\n",
    "    full_dataset = CustomImageDataset(DATA_DIR, transform)\n",
    "    # CelebA-HQ는 30,000개 이므로 전체 데이터를 사용\n",
    "    loader = DataLoader(full_dataset, batch_size=128, shuffle=False, num_workers=4)\n",
    "\n",
    "    all_mu_vectors = []\n",
    "    with torch.no_grad():\n",
    "        for images, _ in tqdm(loader, desc=\"전체 잠재 벡터 추출 중\"):\n",
    "            images = images.to(DEVICE)\n",
    "            mu, _ = encoder(images)\n",
    "            all_mu_vectors.append(mu.view(mu.size(0), -1).cpu())\n",
    "    \n",
    "    latent_vectors = torch.cat(all_mu_vectors, dim=0)\n",
    "    \n",
    "    # 잠재 벡터의 차원을 확인하기 위해 flatten 후의 shape를 사용\n",
    "    latent_dim = latent_vectors.shape[1]\n",
    "    torch.save(latent_vectors, LATENT_VECTORS_PATH)\n",
    "    print(f\"\\n총 {latent_vectors.shape[0]}개의 잠재 벡터 추출 완료 (차원: {latent_dim})\")\n",
    "    print(f\"저장 완료! -> {LATENT_VECTORS_PATH}\")\n",
    "\n",
    "if __name__ == '__main__':\n",
    "    extract_and_save_latents()"
   ]
  },
  {
   "cell_type": "code",
   "execution_count": 7,
   "id": "68ab57af",
   "metadata": {},
   "outputs": [
    {
     "name": "stdout",
     "output_type": "stream",
     "text": [
      "--- 2단계: GMM 후보군 학습 시작 (메모리 최적화 버전) ---\n"
     ]
    },
    {
     "name": "stderr",
     "output_type": "stream",
     "text": [
      "/tmp/ipykernel_2737016/4219987282.py:96: FutureWarning: You are using `torch.load` with `weights_only=False` (the current default value), which uses the default pickle module implicitly. It is possible to construct malicious pickle data which will execute arbitrary code during unpickling (See https://github.com/pytorch/pytorch/blob/main/SECURITY.md#untrusted-models for more details). In a future release, the default value for `weights_only` will be flipped to `True`. This limits the functions that could be executed during unpickling. Arbitrary objects will no longer be allowed to be loaded via this mode unless they are explicitly allowlisted by the user via `torch.serialization.add_safe_globals`. We recommend you start setting `weights_only=True` for any use case where you don't have full control of the loaded file. Please open an issue on GitHub for any issues related to this experimental feature.\n",
      "  latent_vectors = torch.load(LATENT_VECTORS_PATH).to(DEVICE)\n"
     ]
    },
    {
     "data": {
      "application/vnd.jupyter.widget-view+json": {
       "model_id": "664cb932ac53469a957858397ed5ae16",
       "version_major": 2,
       "version_minor": 0
      },
      "text/plain": [
       "GMM (K=10) Iter 1/100:   0%|          | 0/15 [00:00<?, ?it/s]"
      ]
     },
     "metadata": {},
     "output_type": "display_data"
    },
    {
     "data": {
      "application/vnd.jupyter.widget-view+json": {
       "model_id": "2b1e7640f2d44ec1930c1f0c075a65f1",
       "version_major": 2,
       "version_minor": 0
      },
      "text/plain": [
       "GMM (K=10) Iter 2/100:   0%|          | 0/15 [00:00<?, ?it/s]"
      ]
     },
     "metadata": {},
     "output_type": "display_data"
    },
    {
     "data": {
      "application/vnd.jupyter.widget-view+json": {
       "model_id": "16d12a9232d6466d9b6c01b444a4a2dd",
       "version_major": 2,
       "version_minor": 0
      },
      "text/plain": [
       "GMM (K=10) Iter 3/100:   0%|          | 0/15 [00:00<?, ?it/s]"
      ]
     },
     "metadata": {},
     "output_type": "display_data"
    },
    {
     "data": {
      "application/vnd.jupyter.widget-view+json": {
       "model_id": "0688fee909464517a4215d1ae5849086",
       "version_major": 2,
       "version_minor": 0
      },
      "text/plain": [
       "GMM (K=10) Iter 4/100:   0%|          | 0/15 [00:00<?, ?it/s]"
      ]
     },
     "metadata": {},
     "output_type": "display_data"
    },
    {
     "data": {
      "application/vnd.jupyter.widget-view+json": {
       "model_id": "ee305e0be0a749c48cad8ddbe9e42ffb",
       "version_major": 2,
       "version_minor": 0
      },
      "text/plain": [
       "GMM (K=10) Iter 5/100:   0%|          | 0/15 [00:00<?, ?it/s]"
      ]
     },
     "metadata": {},
     "output_type": "display_data"
    },
    {
     "data": {
      "application/vnd.jupyter.widget-view+json": {
       "model_id": "ec87d7f950a34646a73c0720263f8716",
       "version_major": 2,
       "version_minor": 0
      },
      "text/plain": [
       "GMM (K=10) Iter 6/100:   0%|          | 0/15 [00:00<?, ?it/s]"
      ]
     },
     "metadata": {},
     "output_type": "display_data"
    },
    {
     "data": {
      "application/vnd.jupyter.widget-view+json": {
       "model_id": "0529c86ea7114f5bae1c85e1e606033b",
       "version_major": 2,
       "version_minor": 0
      },
      "text/plain": [
       "GMM (K=10) Iter 7/100:   0%|          | 0/15 [00:00<?, ?it/s]"
      ]
     },
     "metadata": {},
     "output_type": "display_data"
    },
    {
     "data": {
      "application/vnd.jupyter.widget-view+json": {
       "model_id": "e35db84c52ac4f48b5fcad16632296b1",
       "version_major": 2,
       "version_minor": 0
      },
      "text/plain": [
       "GMM (K=10) Iter 8/100:   0%|          | 0/15 [00:00<?, ?it/s]"
      ]
     },
     "metadata": {},
     "output_type": "display_data"
    },
    {
     "data": {
      "application/vnd.jupyter.widget-view+json": {
       "model_id": "aba8ab17045e4c65bec9fec4e007d5af",
       "version_major": 2,
       "version_minor": 0
      },
      "text/plain": [
       "GMM (K=10) Iter 9/100:   0%|          | 0/15 [00:00<?, ?it/s]"
      ]
     },
     "metadata": {},
     "output_type": "display_data"
    },
    {
     "data": {
      "application/vnd.jupyter.widget-view+json": {
       "model_id": "46882fc3303541f0967aca61475064ea",
       "version_major": 2,
       "version_minor": 0
      },
      "text/plain": [
       "GMM (K=10) Iter 10/100:   0%|          | 0/15 [00:00<?, ?it/s]"
      ]
     },
     "metadata": {},
     "output_type": "display_data"
    },
    {
     "data": {
      "application/vnd.jupyter.widget-view+json": {
       "model_id": "744d8fed40d24da18dea184aefa28999",
       "version_major": 2,
       "version_minor": 0
      },
      "text/plain": [
       "GMM (K=10) Iter 11/100:   0%|          | 0/15 [00:00<?, ?it/s]"
      ]
     },
     "metadata": {},
     "output_type": "display_data"
    },
    {
     "data": {
      "application/vnd.jupyter.widget-view+json": {
       "model_id": "ae1960478897480eb64dd2c4f1f85971",
       "version_major": 2,
       "version_minor": 0
      },
      "text/plain": [
       "GMM (K=10) Iter 12/100:   0%|          | 0/15 [00:00<?, ?it/s]"
      ]
     },
     "metadata": {},
     "output_type": "display_data"
    },
    {
     "data": {
      "application/vnd.jupyter.widget-view+json": {
       "model_id": "9b51a33e00544cd4b1c74257b4645152",
       "version_major": 2,
       "version_minor": 0
      },
      "text/plain": [
       "GMM (K=10) Iter 13/100:   0%|          | 0/15 [00:00<?, ?it/s]"
      ]
     },
     "metadata": {},
     "output_type": "display_data"
    },
    {
     "data": {
      "application/vnd.jupyter.widget-view+json": {
       "model_id": "43c1e1c236ba4c54979095b88ee31a97",
       "version_major": 2,
       "version_minor": 0
      },
      "text/plain": [
       "GMM (K=10) Iter 14/100:   0%|          | 0/15 [00:00<?, ?it/s]"
      ]
     },
     "metadata": {},
     "output_type": "display_data"
    },
    {
     "data": {
      "application/vnd.jupyter.widget-view+json": {
       "model_id": "35ab210bf83b475ead00d83fcba1cdb5",
       "version_major": 2,
       "version_minor": 0
      },
      "text/plain": [
       "GMM (K=10) Iter 15/100:   0%|          | 0/15 [00:00<?, ?it/s]"
      ]
     },
     "metadata": {},
     "output_type": "display_data"
    },
    {
     "data": {
      "application/vnd.jupyter.widget-view+json": {
       "model_id": "3ff3492667ef404f9c7e977aff06e119",
       "version_major": 2,
       "version_minor": 0
      },
      "text/plain": [
       "GMM (K=10) Iter 16/100:   0%|          | 0/15 [00:00<?, ?it/s]"
      ]
     },
     "metadata": {},
     "output_type": "display_data"
    },
    {
     "data": {
      "application/vnd.jupyter.widget-view+json": {
       "model_id": "54c06541e01f4191af46fd4738523c50",
       "version_major": 2,
       "version_minor": 0
      },
      "text/plain": [
       "GMM (K=10) Iter 17/100:   0%|          | 0/15 [00:00<?, ?it/s]"
      ]
     },
     "metadata": {},
     "output_type": "display_data"
    },
    {
     "data": {
      "application/vnd.jupyter.widget-view+json": {
       "model_id": "efec26112fdb47cbb3188dc538b38397",
       "version_major": 2,
       "version_minor": 0
      },
      "text/plain": [
       "GMM (K=10) Iter 18/100:   0%|          | 0/15 [00:00<?, ?it/s]"
      ]
     },
     "metadata": {},
     "output_type": "display_data"
    },
    {
     "data": {
      "application/vnd.jupyter.widget-view+json": {
       "model_id": "79a13e7ed8ae441eb4be0c3b1f813119",
       "version_major": 2,
       "version_minor": 0
      },
      "text/plain": [
       "GMM (K=10) Iter 19/100:   0%|          | 0/15 [00:00<?, ?it/s]"
      ]
     },
     "metadata": {},
     "output_type": "display_data"
    },
    {
     "data": {
      "application/vnd.jupyter.widget-view+json": {
       "model_id": "dc1534932b324002a256a82c8a8e729d",
       "version_major": 2,
       "version_minor": 0
      },
      "text/plain": [
       "GMM (K=10) Iter 20/100:   0%|          | 0/15 [00:00<?, ?it/s]"
      ]
     },
     "metadata": {},
     "output_type": "display_data"
    },
    {
     "data": {
      "application/vnd.jupyter.widget-view+json": {
       "model_id": "3247a283be4640a0ab9f4cc34fb670b8",
       "version_major": 2,
       "version_minor": 0
      },
      "text/plain": [
       "GMM (K=10) Iter 21/100:   0%|          | 0/15 [00:00<?, ?it/s]"
      ]
     },
     "metadata": {},
     "output_type": "display_data"
    },
    {
     "data": {
      "application/vnd.jupyter.widget-view+json": {
       "model_id": "697d0081e0ab43028d6f63bace513e01",
       "version_major": 2,
       "version_minor": 0
      },
      "text/plain": [
       "GMM (K=10) Iter 22/100:   0%|          | 0/15 [00:00<?, ?it/s]"
      ]
     },
     "metadata": {},
     "output_type": "display_data"
    },
    {
     "data": {
      "application/vnd.jupyter.widget-view+json": {
       "model_id": "a0bce0dc23be4df991326bc8e95672e1",
       "version_major": 2,
       "version_minor": 0
      },
      "text/plain": [
       "GMM (K=10) Iter 23/100:   0%|          | 0/15 [00:00<?, ?it/s]"
      ]
     },
     "metadata": {},
     "output_type": "display_data"
    },
    {
     "data": {
      "application/vnd.jupyter.widget-view+json": {
       "model_id": "747dd0f1c7704c5fbe8de4512dc709eb",
       "version_major": 2,
       "version_minor": 0
      },
      "text/plain": [
       "GMM (K=10) Iter 24/100:   0%|          | 0/15 [00:00<?, ?it/s]"
      ]
     },
     "metadata": {},
     "output_type": "display_data"
    },
    {
     "data": {
      "application/vnd.jupyter.widget-view+json": {
       "model_id": "e4447de51e20473d917646881a5fa359",
       "version_major": 2,
       "version_minor": 0
      },
      "text/plain": [
       "GMM (K=10) Iter 25/100:   0%|          | 0/15 [00:00<?, ?it/s]"
      ]
     },
     "metadata": {},
     "output_type": "display_data"
    },
    {
     "data": {
      "application/vnd.jupyter.widget-view+json": {
       "model_id": "7bb31db72ce8431ebc02c599b8577f6c",
       "version_major": 2,
       "version_minor": 0
      },
      "text/plain": [
       "GMM (K=10) Iter 26/100:   0%|          | 0/15 [00:00<?, ?it/s]"
      ]
     },
     "metadata": {},
     "output_type": "display_data"
    },
    {
     "data": {
      "application/vnd.jupyter.widget-view+json": {
       "model_id": "f839b00cc1114e38942cf5123dca1c58",
       "version_major": 2,
       "version_minor": 0
      },
      "text/plain": [
       "GMM (K=10) Iter 27/100:   0%|          | 0/15 [00:00<?, ?it/s]"
      ]
     },
     "metadata": {},
     "output_type": "display_data"
    },
    {
     "data": {
      "application/vnd.jupyter.widget-view+json": {
       "model_id": "924076120974440a981cd28be4afe0fd",
       "version_major": 2,
       "version_minor": 0
      },
      "text/plain": [
       "GMM (K=10) Iter 28/100:   0%|          | 0/15 [00:00<?, ?it/s]"
      ]
     },
     "metadata": {},
     "output_type": "display_data"
    },
    {
     "data": {
      "application/vnd.jupyter.widget-view+json": {
       "model_id": "08c42828840c416ebb266a1e7f6de724",
       "version_major": 2,
       "version_minor": 0
      },
      "text/plain": [
       "GMM (K=10) Iter 29/100:   0%|          | 0/15 [00:00<?, ?it/s]"
      ]
     },
     "metadata": {},
     "output_type": "display_data"
    },
    {
     "data": {
      "application/vnd.jupyter.widget-view+json": {
       "model_id": "630e8261242a4f6baea8c0d9814f1958",
       "version_major": 2,
       "version_minor": 0
      },
      "text/plain": [
       "GMM (K=10) Iter 30/100:   0%|          | 0/15 [00:00<?, ?it/s]"
      ]
     },
     "metadata": {},
     "output_type": "display_data"
    },
    {
     "data": {
      "application/vnd.jupyter.widget-view+json": {
       "model_id": "56b421bbd18e47cc987c8c68c2ea16ed",
       "version_major": 2,
       "version_minor": 0
      },
      "text/plain": [
       "GMM (K=10) Iter 31/100:   0%|          | 0/15 [00:00<?, ?it/s]"
      ]
     },
     "metadata": {},
     "output_type": "display_data"
    },
    {
     "data": {
      "application/vnd.jupyter.widget-view+json": {
       "model_id": "c23823edc94a47c089d7d7c2d1b29330",
       "version_major": 2,
       "version_minor": 0
      },
      "text/plain": [
       "GMM (K=10) Iter 32/100:   0%|          | 0/15 [00:00<?, ?it/s]"
      ]
     },
     "metadata": {},
     "output_type": "display_data"
    },
    {
     "data": {
      "application/vnd.jupyter.widget-view+json": {
       "model_id": "3fdd0ffcd7e14a6097677c7ccd2b3619",
       "version_major": 2,
       "version_minor": 0
      },
      "text/plain": [
       "GMM (K=10) Iter 33/100:   0%|          | 0/15 [00:00<?, ?it/s]"
      ]
     },
     "metadata": {},
     "output_type": "display_data"
    },
    {
     "data": {
      "application/vnd.jupyter.widget-view+json": {
       "model_id": "8bc0840e8b2246ae9c457b6491e2a826",
       "version_major": 2,
       "version_minor": 0
      },
      "text/plain": [
       "GMM (K=10) Iter 34/100:   0%|          | 0/15 [00:00<?, ?it/s]"
      ]
     },
     "metadata": {},
     "output_type": "display_data"
    },
    {
     "data": {
      "application/vnd.jupyter.widget-view+json": {
       "model_id": "ed3dcd6cac7547f49f7b143d84697929",
       "version_major": 2,
       "version_minor": 0
      },
      "text/plain": [
       "GMM (K=10) Iter 35/100:   0%|          | 0/15 [00:00<?, ?it/s]"
      ]
     },
     "metadata": {},
     "output_type": "display_data"
    },
    {
     "data": {
      "application/vnd.jupyter.widget-view+json": {
       "model_id": "c3ba84bf8a5f44bf8d9717a0975b1bea",
       "version_major": 2,
       "version_minor": 0
      },
      "text/plain": [
       "GMM (K=10) Iter 36/100:   0%|          | 0/15 [00:00<?, ?it/s]"
      ]
     },
     "metadata": {},
     "output_type": "display_data"
    },
    {
     "data": {
      "application/vnd.jupyter.widget-view+json": {
       "model_id": "87dcf9c4fc064a898f012597cb3aeecd",
       "version_major": 2,
       "version_minor": 0
      },
      "text/plain": [
       "GMM (K=10) Iter 37/100:   0%|          | 0/15 [00:00<?, ?it/s]"
      ]
     },
     "metadata": {},
     "output_type": "display_data"
    },
    {
     "data": {
      "application/vnd.jupyter.widget-view+json": {
       "model_id": "449987c55ff04bb789b13bf6353aa506",
       "version_major": 2,
       "version_minor": 0
      },
      "text/plain": [
       "GMM (K=10) Iter 38/100:   0%|          | 0/15 [00:00<?, ?it/s]"
      ]
     },
     "metadata": {},
     "output_type": "display_data"
    },
    {
     "data": {
      "application/vnd.jupyter.widget-view+json": {
       "model_id": "c7cf1b50c08144b3ac9a4267fc555db9",
       "version_major": 2,
       "version_minor": 0
      },
      "text/plain": [
       "GMM (K=10) Iter 39/100:   0%|          | 0/15 [00:00<?, ?it/s]"
      ]
     },
     "metadata": {},
     "output_type": "display_data"
    },
    {
     "data": {
      "application/vnd.jupyter.widget-view+json": {
       "model_id": "b5e438b2ad764b63844a4392138e1bcb",
       "version_major": 2,
       "version_minor": 0
      },
      "text/plain": [
       "GMM (K=10) Iter 40/100:   0%|          | 0/15 [00:00<?, ?it/s]"
      ]
     },
     "metadata": {},
     "output_type": "display_data"
    },
    {
     "data": {
      "application/vnd.jupyter.widget-view+json": {
       "model_id": "fbd33229903642889a504b79c41b83b6",
       "version_major": 2,
       "version_minor": 0
      },
      "text/plain": [
       "GMM (K=10) Iter 41/100:   0%|          | 0/15 [00:00<?, ?it/s]"
      ]
     },
     "metadata": {},
     "output_type": "display_data"
    },
    {
     "data": {
      "application/vnd.jupyter.widget-view+json": {
       "model_id": "e7dcef9f49894fcc8769cc079c7fa6fa",
       "version_major": 2,
       "version_minor": 0
      },
      "text/plain": [
       "GMM (K=10) Iter 42/100:   0%|          | 0/15 [00:00<?, ?it/s]"
      ]
     },
     "metadata": {},
     "output_type": "display_data"
    },
    {
     "data": {
      "application/vnd.jupyter.widget-view+json": {
       "model_id": "4a694026b79848be9425e63368d91cc1",
       "version_major": 2,
       "version_minor": 0
      },
      "text/plain": [
       "GMM (K=10) Iter 43/100:   0%|          | 0/15 [00:00<?, ?it/s]"
      ]
     },
     "metadata": {},
     "output_type": "display_data"
    },
    {
     "data": {
      "application/vnd.jupyter.widget-view+json": {
       "model_id": "98fcca5941b4449d8e7cd26ad141a2c6",
       "version_major": 2,
       "version_minor": 0
      },
      "text/plain": [
       "GMM (K=10) Iter 44/100:   0%|          | 0/15 [00:00<?, ?it/s]"
      ]
     },
     "metadata": {},
     "output_type": "display_data"
    },
    {
     "data": {
      "application/vnd.jupyter.widget-view+json": {
       "model_id": "9b0f2ffadb734677ad35e7f7dc91c120",
       "version_major": 2,
       "version_minor": 0
      },
      "text/plain": [
       "GMM (K=10) Iter 45/100:   0%|          | 0/15 [00:00<?, ?it/s]"
      ]
     },
     "metadata": {},
     "output_type": "display_data"
    },
    {
     "data": {
      "application/vnd.jupyter.widget-view+json": {
       "model_id": "185fe9b1c1d34ac99f262f8ebe1a1ae6",
       "version_major": 2,
       "version_minor": 0
      },
      "text/plain": [
       "GMM (K=10) Iter 46/100:   0%|          | 0/15 [00:00<?, ?it/s]"
      ]
     },
     "metadata": {},
     "output_type": "display_data"
    },
    {
     "data": {
      "application/vnd.jupyter.widget-view+json": {
       "model_id": "7c65dd4c47374da79562ae3caa0cb988",
       "version_major": 2,
       "version_minor": 0
      },
      "text/plain": [
       "GMM (K=10) Iter 47/100:   0%|          | 0/15 [00:00<?, ?it/s]"
      ]
     },
     "metadata": {},
     "output_type": "display_data"
    },
    {
     "data": {
      "application/vnd.jupyter.widget-view+json": {
       "model_id": "9081c57a498a417e8fb51cfea8d0afaa",
       "version_major": 2,
       "version_minor": 0
      },
      "text/plain": [
       "GMM (K=10) Iter 48/100:   0%|          | 0/15 [00:00<?, ?it/s]"
      ]
     },
     "metadata": {},
     "output_type": "display_data"
    },
    {
     "data": {
      "application/vnd.jupyter.widget-view+json": {
       "model_id": "2ed83347006d4c7988319a304d0f5230",
       "version_major": 2,
       "version_minor": 0
      },
      "text/plain": [
       "GMM (K=10) Iter 49/100:   0%|          | 0/15 [00:00<?, ?it/s]"
      ]
     },
     "metadata": {},
     "output_type": "display_data"
    },
    {
     "data": {
      "application/vnd.jupyter.widget-view+json": {
       "model_id": "39628193a2df43cab3c531737f7e6416",
       "version_major": 2,
       "version_minor": 0
      },
      "text/plain": [
       "GMM (K=10) Iter 50/100:   0%|          | 0/15 [00:00<?, ?it/s]"
      ]
     },
     "metadata": {},
     "output_type": "display_data"
    },
    {
     "data": {
      "application/vnd.jupyter.widget-view+json": {
       "model_id": "47de7608fe59441ca1899f3f2663d723",
       "version_major": 2,
       "version_minor": 0
      },
      "text/plain": [
       "GMM (K=10) Iter 51/100:   0%|          | 0/15 [00:00<?, ?it/s]"
      ]
     },
     "metadata": {},
     "output_type": "display_data"
    },
    {
     "data": {
      "application/vnd.jupyter.widget-view+json": {
       "model_id": "fce43e17adbc49f3a3fed04e000ad9fc",
       "version_major": 2,
       "version_minor": 0
      },
      "text/plain": [
       "GMM (K=10) Iter 52/100:   0%|          | 0/15 [00:00<?, ?it/s]"
      ]
     },
     "metadata": {},
     "output_type": "display_data"
    },
    {
     "data": {
      "application/vnd.jupyter.widget-view+json": {
       "model_id": "29471cff3fbc4f72916c30541582f718",
       "version_major": 2,
       "version_minor": 0
      },
      "text/plain": [
       "GMM (K=10) Iter 53/100:   0%|          | 0/15 [00:00<?, ?it/s]"
      ]
     },
     "metadata": {},
     "output_type": "display_data"
    },
    {
     "data": {
      "application/vnd.jupyter.widget-view+json": {
       "model_id": "f62c5bf9f87a434c99345c62d2eed105",
       "version_major": 2,
       "version_minor": 0
      },
      "text/plain": [
       "GMM (K=10) Iter 54/100:   0%|          | 0/15 [00:00<?, ?it/s]"
      ]
     },
     "metadata": {},
     "output_type": "display_data"
    },
    {
     "data": {
      "application/vnd.jupyter.widget-view+json": {
       "model_id": "afe61c83b44146c5b82d3156b79d0f33",
       "version_major": 2,
       "version_minor": 0
      },
      "text/plain": [
       "GMM (K=10) Iter 55/100:   0%|          | 0/15 [00:00<?, ?it/s]"
      ]
     },
     "metadata": {},
     "output_type": "display_data"
    },
    {
     "data": {
      "application/vnd.jupyter.widget-view+json": {
       "model_id": "0599e80d43794ebaa6d114ac7241f0ab",
       "version_major": 2,
       "version_minor": 0
      },
      "text/plain": [
       "GMM (K=10) Iter 56/100:   0%|          | 0/15 [00:00<?, ?it/s]"
      ]
     },
     "metadata": {},
     "output_type": "display_data"
    },
    {
     "data": {
      "application/vnd.jupyter.widget-view+json": {
       "model_id": "df3f6fe73f47469ab289c2db6a9157be",
       "version_major": 2,
       "version_minor": 0
      },
      "text/plain": [
       "GMM (K=10) Iter 57/100:   0%|          | 0/15 [00:00<?, ?it/s]"
      ]
     },
     "metadata": {},
     "output_type": "display_data"
    },
    {
     "data": {
      "application/vnd.jupyter.widget-view+json": {
       "model_id": "a872784ec87543869e6f7c96ec29fb5c",
       "version_major": 2,
       "version_minor": 0
      },
      "text/plain": [
       "GMM (K=10) Iter 58/100:   0%|          | 0/15 [00:00<?, ?it/s]"
      ]
     },
     "metadata": {},
     "output_type": "display_data"
    },
    {
     "data": {
      "application/vnd.jupyter.widget-view+json": {
       "model_id": "c2d5f9da33e64b75b44b85dda9fe49dd",
       "version_major": 2,
       "version_minor": 0
      },
      "text/plain": [
       "GMM (K=10) Iter 59/100:   0%|          | 0/15 [00:00<?, ?it/s]"
      ]
     },
     "metadata": {},
     "output_type": "display_data"
    },
    {
     "data": {
      "application/vnd.jupyter.widget-view+json": {
       "model_id": "b542ee12421046a79244acd2074a18bb",
       "version_major": 2,
       "version_minor": 0
      },
      "text/plain": [
       "GMM (K=10) Iter 60/100:   0%|          | 0/15 [00:00<?, ?it/s]"
      ]
     },
     "metadata": {},
     "output_type": "display_data"
    },
    {
     "data": {
      "application/vnd.jupyter.widget-view+json": {
       "model_id": "6ffbb950582549fcb9efd3c9fe364ffd",
       "version_major": 2,
       "version_minor": 0
      },
      "text/plain": [
       "GMM (K=10) Iter 61/100:   0%|          | 0/15 [00:00<?, ?it/s]"
      ]
     },
     "metadata": {},
     "output_type": "display_data"
    },
    {
     "data": {
      "application/vnd.jupyter.widget-view+json": {
       "model_id": "71b71afd14c842d59f4632961e7ac8bb",
       "version_major": 2,
       "version_minor": 0
      },
      "text/plain": [
       "GMM (K=10) Iter 62/100:   0%|          | 0/15 [00:00<?, ?it/s]"
      ]
     },
     "metadata": {},
     "output_type": "display_data"
    },
    {
     "data": {
      "application/vnd.jupyter.widget-view+json": {
       "model_id": "e001586b1401411a90668c1a9d5a496f",
       "version_major": 2,
       "version_minor": 0
      },
      "text/plain": [
       "GMM (K=10) Iter 63/100:   0%|          | 0/15 [00:00<?, ?it/s]"
      ]
     },
     "metadata": {},
     "output_type": "display_data"
    },
    {
     "data": {
      "application/vnd.jupyter.widget-view+json": {
       "model_id": "6f626ebd9e564a23ab7c6e149bfe8c6c",
       "version_major": 2,
       "version_minor": 0
      },
      "text/plain": [
       "GMM (K=10) Iter 64/100:   0%|          | 0/15 [00:00<?, ?it/s]"
      ]
     },
     "metadata": {},
     "output_type": "display_data"
    },
    {
     "data": {
      "application/vnd.jupyter.widget-view+json": {
       "model_id": "8729062968d64c07ac72681bd2d5c617",
       "version_major": 2,
       "version_minor": 0
      },
      "text/plain": [
       "GMM (K=10) Iter 65/100:   0%|          | 0/15 [00:00<?, ?it/s]"
      ]
     },
     "metadata": {},
     "output_type": "display_data"
    },
    {
     "data": {
      "application/vnd.jupyter.widget-view+json": {
       "model_id": "920569bf4ad546bdbed0f06881c36a69",
       "version_major": 2,
       "version_minor": 0
      },
      "text/plain": [
       "GMM (K=10) Iter 66/100:   0%|          | 0/15 [00:00<?, ?it/s]"
      ]
     },
     "metadata": {},
     "output_type": "display_data"
    },
    {
     "data": {
      "application/vnd.jupyter.widget-view+json": {
       "model_id": "55dd62ab6aec4d32a20bc0853ab1106b",
       "version_major": 2,
       "version_minor": 0
      },
      "text/plain": [
       "GMM (K=10) Iter 67/100:   0%|          | 0/15 [00:00<?, ?it/s]"
      ]
     },
     "metadata": {},
     "output_type": "display_data"
    },
    {
     "data": {
      "application/vnd.jupyter.widget-view+json": {
       "model_id": "21a04f690fb94a4aa4348e8a6f86a588",
       "version_major": 2,
       "version_minor": 0
      },
      "text/plain": [
       "GMM (K=10) Iter 68/100:   0%|          | 0/15 [00:00<?, ?it/s]"
      ]
     },
     "metadata": {},
     "output_type": "display_data"
    },
    {
     "data": {
      "application/vnd.jupyter.widget-view+json": {
       "model_id": "2eceb5d547864a2294e8dd4ab089c80d",
       "version_major": 2,
       "version_minor": 0
      },
      "text/plain": [
       "GMM (K=10) Iter 69/100:   0%|          | 0/15 [00:00<?, ?it/s]"
      ]
     },
     "metadata": {},
     "output_type": "display_data"
    },
    {
     "data": {
      "application/vnd.jupyter.widget-view+json": {
       "model_id": "7dfb7899477a4d51bd7d602ac57f587c",
       "version_major": 2,
       "version_minor": 0
      },
      "text/plain": [
       "GMM (K=10) Iter 70/100:   0%|          | 0/15 [00:00<?, ?it/s]"
      ]
     },
     "metadata": {},
     "output_type": "display_data"
    },
    {
     "data": {
      "application/vnd.jupyter.widget-view+json": {
       "model_id": "8b62503bc06d47fdbf42e6c9493ba0c8",
       "version_major": 2,
       "version_minor": 0
      },
      "text/plain": [
       "GMM (K=10) Iter 71/100:   0%|          | 0/15 [00:00<?, ?it/s]"
      ]
     },
     "metadata": {},
     "output_type": "display_data"
    },
    {
     "data": {
      "application/vnd.jupyter.widget-view+json": {
       "model_id": "0ead789ea18846b3a045934dc1f52554",
       "version_major": 2,
       "version_minor": 0
      },
      "text/plain": [
       "GMM (K=10) Iter 72/100:   0%|          | 0/15 [00:00<?, ?it/s]"
      ]
     },
     "metadata": {},
     "output_type": "display_data"
    },
    {
     "data": {
      "application/vnd.jupyter.widget-view+json": {
       "model_id": "0a6a6b5234b14e60b636841a457985aa",
       "version_major": 2,
       "version_minor": 0
      },
      "text/plain": [
       "GMM (K=10) Iter 73/100:   0%|          | 0/15 [00:00<?, ?it/s]"
      ]
     },
     "metadata": {},
     "output_type": "display_data"
    },
    {
     "data": {
      "application/vnd.jupyter.widget-view+json": {
       "model_id": "145c9f19637e4ef6a278c90e70fe9ffd",
       "version_major": 2,
       "version_minor": 0
      },
      "text/plain": [
       "GMM (K=10) Iter 74/100:   0%|          | 0/15 [00:00<?, ?it/s]"
      ]
     },
     "metadata": {},
     "output_type": "display_data"
    },
    {
     "data": {
      "application/vnd.jupyter.widget-view+json": {
       "model_id": "de620c7487834d1abefe026ac1236202",
       "version_major": 2,
       "version_minor": 0
      },
      "text/plain": [
       "GMM (K=10) Iter 75/100:   0%|          | 0/15 [00:00<?, ?it/s]"
      ]
     },
     "metadata": {},
     "output_type": "display_data"
    },
    {
     "data": {
      "application/vnd.jupyter.widget-view+json": {
       "model_id": "68e4fea8517549fd8486e46d02ffdcec",
       "version_major": 2,
       "version_minor": 0
      },
      "text/plain": [
       "GMM (K=10) Iter 76/100:   0%|          | 0/15 [00:00<?, ?it/s]"
      ]
     },
     "metadata": {},
     "output_type": "display_data"
    },
    {
     "data": {
      "application/vnd.jupyter.widget-view+json": {
       "model_id": "c2c64255f22d4ff5acd3526d64a8f597",
       "version_major": 2,
       "version_minor": 0
      },
      "text/plain": [
       "GMM (K=10) Iter 77/100:   0%|          | 0/15 [00:00<?, ?it/s]"
      ]
     },
     "metadata": {},
     "output_type": "display_data"
    },
    {
     "data": {
      "application/vnd.jupyter.widget-view+json": {
       "model_id": "34f1702f2de6463f83098058a25ceefd",
       "version_major": 2,
       "version_minor": 0
      },
      "text/plain": [
       "GMM (K=10) Iter 78/100:   0%|          | 0/15 [00:00<?, ?it/s]"
      ]
     },
     "metadata": {},
     "output_type": "display_data"
    },
    {
     "data": {
      "application/vnd.jupyter.widget-view+json": {
       "model_id": "c9abb6655d3d4b29b64c88e91266e353",
       "version_major": 2,
       "version_minor": 0
      },
      "text/plain": [
       "GMM (K=10) Iter 79/100:   0%|          | 0/15 [00:00<?, ?it/s]"
      ]
     },
     "metadata": {},
     "output_type": "display_data"
    },
    {
     "data": {
      "application/vnd.jupyter.widget-view+json": {
       "model_id": "29502941b17f49358472419e354ce9b4",
       "version_major": 2,
       "version_minor": 0
      },
      "text/plain": [
       "GMM (K=10) Iter 80/100:   0%|          | 0/15 [00:00<?, ?it/s]"
      ]
     },
     "metadata": {},
     "output_type": "display_data"
    },
    {
     "data": {
      "application/vnd.jupyter.widget-view+json": {
       "model_id": "2c29177353b74718938ef01360b8ac5a",
       "version_major": 2,
       "version_minor": 0
      },
      "text/plain": [
       "GMM (K=10) Iter 81/100:   0%|          | 0/15 [00:00<?, ?it/s]"
      ]
     },
     "metadata": {},
     "output_type": "display_data"
    },
    {
     "data": {
      "application/vnd.jupyter.widget-view+json": {
       "model_id": "52df1a8fcfe6420683125a60b29eb3cf",
       "version_major": 2,
       "version_minor": 0
      },
      "text/plain": [
       "GMM (K=10) Iter 82/100:   0%|          | 0/15 [00:00<?, ?it/s]"
      ]
     },
     "metadata": {},
     "output_type": "display_data"
    },
    {
     "data": {
      "application/vnd.jupyter.widget-view+json": {
       "model_id": "3dece3618231464a9ae9636370559e1d",
       "version_major": 2,
       "version_minor": 0
      },
      "text/plain": [
       "GMM (K=10) Iter 83/100:   0%|          | 0/15 [00:00<?, ?it/s]"
      ]
     },
     "metadata": {},
     "output_type": "display_data"
    },
    {
     "data": {
      "application/vnd.jupyter.widget-view+json": {
       "model_id": "0444e8f3eb094b23a77512a404be3402",
       "version_major": 2,
       "version_minor": 0
      },
      "text/plain": [
       "GMM (K=10) Iter 84/100:   0%|          | 0/15 [00:00<?, ?it/s]"
      ]
     },
     "metadata": {},
     "output_type": "display_data"
    },
    {
     "data": {
      "application/vnd.jupyter.widget-view+json": {
       "model_id": "b681d3a85514475a8da23fb96054bfb7",
       "version_major": 2,
       "version_minor": 0
      },
      "text/plain": [
       "GMM (K=10) Iter 85/100:   0%|          | 0/15 [00:00<?, ?it/s]"
      ]
     },
     "metadata": {},
     "output_type": "display_data"
    },
    {
     "data": {
      "application/vnd.jupyter.widget-view+json": {
       "model_id": "7f62e50997c340a5a9a2d28aa1d8932d",
       "version_major": 2,
       "version_minor": 0
      },
      "text/plain": [
       "GMM (K=10) Iter 86/100:   0%|          | 0/15 [00:00<?, ?it/s]"
      ]
     },
     "metadata": {},
     "output_type": "display_data"
    },
    {
     "data": {
      "application/vnd.jupyter.widget-view+json": {
       "model_id": "ef4ba72610cc4f99825d9683ed0a34b8",
       "version_major": 2,
       "version_minor": 0
      },
      "text/plain": [
       "GMM (K=10) Iter 87/100:   0%|          | 0/15 [00:00<?, ?it/s]"
      ]
     },
     "metadata": {},
     "output_type": "display_data"
    },
    {
     "data": {
      "application/vnd.jupyter.widget-view+json": {
       "model_id": "0a3b46c054f14b11aed32daa90d886cb",
       "version_major": 2,
       "version_minor": 0
      },
      "text/plain": [
       "GMM (K=10) Iter 88/100:   0%|          | 0/15 [00:00<?, ?it/s]"
      ]
     },
     "metadata": {},
     "output_type": "display_data"
    },
    {
     "data": {
      "application/vnd.jupyter.widget-view+json": {
       "model_id": "480c913352694be09bd9245ba9d1fe20",
       "version_major": 2,
       "version_minor": 0
      },
      "text/plain": [
       "GMM (K=10) Iter 89/100:   0%|          | 0/15 [00:00<?, ?it/s]"
      ]
     },
     "metadata": {},
     "output_type": "display_data"
    },
    {
     "data": {
      "application/vnd.jupyter.widget-view+json": {
       "model_id": "a774e9bb9deb4823b6bc51232e2be7ea",
       "version_major": 2,
       "version_minor": 0
      },
      "text/plain": [
       "GMM (K=10) Iter 90/100:   0%|          | 0/15 [00:00<?, ?it/s]"
      ]
     },
     "metadata": {},
     "output_type": "display_data"
    },
    {
     "data": {
      "application/vnd.jupyter.widget-view+json": {
       "model_id": "1f6f8fe24f994464b56e1906fd457d7b",
       "version_major": 2,
       "version_minor": 0
      },
      "text/plain": [
       "GMM (K=10) Iter 91/100:   0%|          | 0/15 [00:00<?, ?it/s]"
      ]
     },
     "metadata": {},
     "output_type": "display_data"
    },
    {
     "data": {
      "application/vnd.jupyter.widget-view+json": {
       "model_id": "866bb76b7e074c97bc46e3236609dca0",
       "version_major": 2,
       "version_minor": 0
      },
      "text/plain": [
       "GMM (K=10) Iter 92/100:   0%|          | 0/15 [00:00<?, ?it/s]"
      ]
     },
     "metadata": {},
     "output_type": "display_data"
    },
    {
     "data": {
      "application/vnd.jupyter.widget-view+json": {
       "model_id": "9708efc6e4e94a9fafbe490c620e1797",
       "version_major": 2,
       "version_minor": 0
      },
      "text/plain": [
       "GMM (K=10) Iter 93/100:   0%|          | 0/15 [00:00<?, ?it/s]"
      ]
     },
     "metadata": {},
     "output_type": "display_data"
    },
    {
     "data": {
      "application/vnd.jupyter.widget-view+json": {
       "model_id": "2e4d45f02af44c058b2662abf4d01900",
       "version_major": 2,
       "version_minor": 0
      },
      "text/plain": [
       "GMM (K=10) Iter 94/100:   0%|          | 0/15 [00:00<?, ?it/s]"
      ]
     },
     "metadata": {},
     "output_type": "display_data"
    },
    {
     "data": {
      "application/vnd.jupyter.widget-view+json": {
       "model_id": "4b34e1c858fb4b4d81036f7bd2919cde",
       "version_major": 2,
       "version_minor": 0
      },
      "text/plain": [
       "GMM (K=10) Iter 95/100:   0%|          | 0/15 [00:00<?, ?it/s]"
      ]
     },
     "metadata": {},
     "output_type": "display_data"
    },
    {
     "data": {
      "application/vnd.jupyter.widget-view+json": {
       "model_id": "12546c168d8242ffaf08dd1b74d8be74",
       "version_major": 2,
       "version_minor": 0
      },
      "text/plain": [
       "GMM (K=10) Iter 96/100:   0%|          | 0/15 [00:00<?, ?it/s]"
      ]
     },
     "metadata": {},
     "output_type": "display_data"
    },
    {
     "data": {
      "application/vnd.jupyter.widget-view+json": {
       "model_id": "3efd124715f14b88ab94c7a97c251971",
       "version_major": 2,
       "version_minor": 0
      },
      "text/plain": [
       "GMM (K=10) Iter 97/100:   0%|          | 0/15 [00:00<?, ?it/s]"
      ]
     },
     "metadata": {},
     "output_type": "display_data"
    },
    {
     "data": {
      "application/vnd.jupyter.widget-view+json": {
       "model_id": "ad132f9a167d4af8b615cfccdaeb880d",
       "version_major": 2,
       "version_minor": 0
      },
      "text/plain": [
       "GMM (K=10) Iter 98/100:   0%|          | 0/15 [00:00<?, ?it/s]"
      ]
     },
     "metadata": {},
     "output_type": "display_data"
    },
    {
     "data": {
      "application/vnd.jupyter.widget-view+json": {
       "model_id": "5e55af0eb79f46b8a6630c04f7fe5712",
       "version_major": 2,
       "version_minor": 0
      },
      "text/plain": [
       "GMM (K=10) Iter 99/100:   0%|          | 0/15 [00:00<?, ?it/s]"
      ]
     },
     "metadata": {},
     "output_type": "display_data"
    },
    {
     "data": {
      "application/vnd.jupyter.widget-view+json": {
       "model_id": "d55c3fa3e34042209b8fcef7660b5886",
       "version_major": 2,
       "version_minor": 0
      },
      "text/plain": [
       "GMM (K=10) Iter 100/100:   0%|          | 0/15 [00:00<?, ?it/s]"
      ]
     },
     "metadata": {},
     "output_type": "display_data"
    },
    {
     "ename": "NameError",
     "evalue": "name 'g' is not defined",
     "output_type": "error",
     "traceback": [
      "\u001b[0;31m---------------------------------------------------------------------------\u001b[0m",
      "\u001b[0;31mNameError\u001b[0m                                 Traceback (most recent call last)",
      "Cell \u001b[0;32mIn[7], line 116\u001b[0m\n\u001b[1;32m    113\u001b[0m         \u001b[38;5;28mprint\u001b[39m(\u001b[38;5;124mf\u001b[39m\u001b[38;5;124m\"\u001b[39m\u001b[38;5;124mK=\u001b[39m\u001b[38;5;132;01m{\u001b[39;00mk\u001b[38;5;132;01m}\u001b[39;00m\u001b[38;5;124m GMM 학습 완료 및 저장: \u001b[39m\u001b[38;5;132;01m{\u001b[39;00mmodel_path\u001b[38;5;132;01m}\u001b[39;00m\u001b[38;5;130;01m\\n\u001b[39;00m\u001b[38;5;124m\"\u001b[39m)\n\u001b[1;32m    115\u001b[0m \u001b[38;5;28;01mif\u001b[39;00m \u001b[38;5;18m__name__\u001b[39m \u001b[38;5;241m==\u001b[39m \u001b[38;5;124m'\u001b[39m\u001b[38;5;124m__main__\u001b[39m\u001b[38;5;124m'\u001b[39m:\n\u001b[0;32m--> 116\u001b[0m     \u001b[43mtrain_gmms\u001b[49m\u001b[43m(\u001b[49m\u001b[43m)\u001b[49m\n",
      "Cell \u001b[0;32mIn[7], line 106\u001b[0m, in \u001b[0;36mtrain_gmms\u001b[0;34m()\u001b[0m\n\u001b[1;32m    102\u001b[0m gmm \u001b[38;5;241m=\u001b[39m PyTorchGMM(n_components\u001b[38;5;241m=\u001b[39mk, random_state\u001b[38;5;241m=\u001b[39m\u001b[38;5;241m42\u001b[39m)\n\u001b[1;32m    103\u001b[0m gmm\u001b[38;5;241m.\u001b[39mfit(latent_vectors)\n\u001b[1;32m    105\u001b[0m gmm_params \u001b[38;5;241m=\u001b[39m {\n\u001b[0;32m--> 106\u001b[0m     \u001b[38;5;124m'\u001b[39m\u001b[38;5;124mweights\u001b[39m\u001b[38;5;124m'\u001b[39m: \u001b[43mg\u001b[49m\u001b[38;5;241m.\u001b[39mweights_\u001b[38;5;241m.\u001b[39mcpu()\u001b[38;5;241m.\u001b[39mnumpy(),\n\u001b[1;32m    107\u001b[0m     \u001b[38;5;124m'\u001b[39m\u001b[38;5;124mmeans\u001b[39m\u001b[38;5;124m'\u001b[39m: gmm\u001b[38;5;241m.\u001b[39mmeans_\u001b[38;5;241m.\u001b[39mcpu()\u001b[38;5;241m.\u001b[39mnumpy(),\n\u001b[1;32m    108\u001b[0m     \u001b[38;5;124m'\u001b[39m\u001b[38;5;124mcovariances\u001b[39m\u001b[38;5;124m'\u001b[39m: gmm\u001b[38;5;241m.\u001b[39mcovariances_\u001b[38;5;241m.\u001b[39mcpu()\u001b[38;5;241m.\u001b[39mnumpy()\n\u001b[1;32m    109\u001b[0m }\n\u001b[1;32m    111\u001b[0m model_path \u001b[38;5;241m=\u001b[39m os\u001b[38;5;241m.\u001b[39mpath\u001b[38;5;241m.\u001b[39mjoin(CHECKPOINT_DIR, \u001b[38;5;124mf\u001b[39m\u001b[38;5;124m'\u001b[39m\u001b[38;5;124mgmm_k_\u001b[39m\u001b[38;5;132;01m{\u001b[39;00mk\u001b[38;5;132;01m}\u001b[39;00m\u001b[38;5;124m.pkl\u001b[39m\u001b[38;5;124m'\u001b[39m)\n\u001b[1;32m    112\u001b[0m joblib\u001b[38;5;241m.\u001b[39mdump(gmm_params, model_path)\n",
      "\u001b[0;31mNameError\u001b[0m: name 'g' is not defined"
     ]
    }
   ],
   "source": [
    "# --- 파일명: 2_train_gmm_candidates.py (메모리 최적화 버전) ---\n",
    "\n",
    "import os\n",
    "import torch\n",
    "import joblib\n",
    "from tqdm.auto import tqdm\n",
    "\n",
    "# ================================================================\n",
    "# ✨✨✨ 메모리 사용량 제어 ✨✨✨\n",
    "# ================================================================\n",
    "# 이 값을 줄이면 메모리 사용량이 줄어듭니다. (GPU 사양에 맞게 조절)\n",
    "BATCH_SIZE = 2048\n",
    "# ================================================================\n",
    "\n",
    "# --- PyTorchGMM 클래스 정의 (미니배치 fit 메소드로 수정) ---\n",
    "class PyTorchGMM:\n",
    "    def __init__(self, n_components, max_iter=100, tol=1e-4, random_state=42):\n",
    "        self.n_components = n_components\n",
    "        self.max_iter = max_iter\n",
    "        self.tol = tol\n",
    "        self.random_state = random_state\n",
    "        self.weights_ = None\n",
    "        self.means_ = None\n",
    "        self.covariances_ = None\n",
    "\n",
    "    def fit(self, X):\n",
    "        torch.manual_seed(self.random_state)\n",
    "        n_samples, n_features = X.shape\n",
    "        self.device = X.device\n",
    "\n",
    "        # 초기화\n",
    "        initial_indices = torch.randperm(n_samples)[:self.n_components]\n",
    "        self.means_ = X[initial_indices]\n",
    "        self.covariances_ = torch.eye(n_features, device=self.device, dtype=X.dtype).unsqueeze(0).repeat(self.n_components, 1, 1) * 0.1\n",
    "        self.weights_ = torch.ones(self.n_components, device=self.device, dtype=X.dtype) / self.n_components\n",
    "        \n",
    "        prev_log_likelihood = -torch.inf\n",
    "\n",
    "        for i in range(self.max_iter):\n",
    "            tqdm_desc = f'GMM (K={self.n_components}) Iter {i+1}/{self.max_iter}'\n",
    "            \n",
    "            # --- M-step을 위한 통계량 누적 변수 초기화 ---\n",
    "            nk_accumulator = torch.zeros(self.n_components, device=self.device, dtype=X.dtype)\n",
    "            means_numerator = torch.zeros_like(self.means_, dtype=X.dtype)\n",
    "            cov_numerator = torch.zeros_like(self.covariances_, dtype=X.dtype)\n",
    "            total_log_likelihood = 0\n",
    "\n",
    "            # --- 미니배치 루프 ---\n",
    "            for batch_X in tqdm(torch.split(X, BATCH_SIZE), desc=tqdm_desc, leave=False):\n",
    "                # E-step (for batch)\n",
    "                log_resp = self._estimate_log_prob(batch_X) + torch.log(self.weights_)\n",
    "                log_prob_norm = torch.logsumexp(log_resp, dim=1, keepdim=True)\n",
    "                total_log_likelihood += log_prob_norm.sum()\n",
    "                resp = torch.exp(log_resp - log_prob_norm)\n",
    "\n",
    "                # M-step 통계량 누적\n",
    "                nk_batch = resp.sum(dim=0)\n",
    "                nk_accumulator += nk_batch\n",
    "                means_numerator += torch.matmul(resp.T, batch_X)\n",
    "\n",
    "                diff = batch_X.unsqueeze(1) - self.means_.unsqueeze(0)\n",
    "                outer_prod = diff.unsqueeze(3) @ diff.unsqueeze(2)\n",
    "                cov_numerator += torch.sum(resp.unsqueeze(2).unsqueeze(3) * outer_prod, dim=0)\n",
    "\n",
    "            # M-step (전체 데이터에 대한 통계량으로 파라미터 업데이트)\n",
    "            self.weights_ = nk_accumulator / n_samples\n",
    "            self.means_ = means_numerator / nk_accumulator.unsqueeze(1)\n",
    "            self.covariances_ = cov_numerator / nk_accumulator.view(-1, 1, 1)\n",
    "            self.covariances_ += torch.eye(n_features, device=self.device, dtype=X.dtype) * 1e-6\n",
    "\n",
    "            # 수렴 확인\n",
    "            if torch.abs(total_log_likelihood - prev_log_likelihood) < self.tol and i > 0:\n",
    "                print(f\"Iteration {i+1}에서 수렴 완료.\")\n",
    "                break\n",
    "            prev_log_likelihood = total_log_likelihood\n",
    "            \n",
    "    def _estimate_log_prob(self, X):\n",
    "        # ... (이전 코드와 동일) ...\n",
    "        # (코드가 길어져 생략, 실제 실행 시에는 포함)\n",
    "        log_probs = []\n",
    "        for k in range(self.n_components):\n",
    "            try:\n",
    "                cholesky = torch.linalg.cholesky(self.covariances_[k])\n",
    "                dist = torch.distributions.MultivariateNormal(self.means_[k], scale_tril=cholesky)\n",
    "                log_probs.append(dist.log_prob(X))\n",
    "            except torch.linalg.LinAlgError:\n",
    "                log_probs.append(torch.full((X.shape[0],), -torch.inf, device=self.device, dtype=X.dtype))\n",
    "        return torch.stack(log_probs, dim=1)\n",
    "\n",
    "def train_gmms():\n",
    "    print(\"--- 2단계: GMM 후보군 학습 시작 (메모리 최적화 버전) ---\")\n",
    "    DEVICE = torch.device(\"cuda:2\" if torch.cuda.is_available() else \"cpu\")\n",
    "    CHECKPOINT_DIR = '/home/nas/data/YMG/superdeep_ae/my_checkpoints/'\n",
    "    LATENT_VECTORS_PATH = os.path.join(CHECKPOINT_DIR, 'real_latent_vectors_full.pt')\n",
    "    \n",
    "    latent_vectors = torch.load(LATENT_VECTORS_PATH).to(DEVICE)\n",
    "    latent_vectors = latent_vectors.to(torch.float64) \n",
    "\n",
    "    k_candidates = [10, 20, 40, 80, 160, 320]\n",
    "\n",
    "    for k in k_candidates:\n",
    "        gmm = PyTorchGMM(n_components=k, random_state=42)\n",
    "        gmm.fit(latent_vectors)\n",
    "        \n",
    "        gmm_params = {\n",
    "            'weights': g.weights_.cpu().numpy(),\n",
    "            'means': gmm.means_.cpu().numpy(),\n",
    "            'covariances': gmm.covariances_.cpu().numpy()\n",
    "        }\n",
    "        \n",
    "        model_path = os.path.join(CHECKPOINT_DIR, f'gmm_k_{k}.pkl')\n",
    "        joblib.dump(gmm_params, model_path)\n",
    "        print(f\"K={k} GMM 학습 완료 및 저장: {model_path}\\n\")\n",
    "\n",
    "if __name__ == '__main__':\n",
    "    train_gmms()"
   ]
  },
  {
   "cell_type": "code",
   "execution_count": null,
   "id": "156d47dd",
   "metadata": {},
   "outputs": [],
   "source": [
    "# --- 파일명: 3_evaluate_fid.py ---\n",
    "\n",
    "import os\n",
    "import torch\n",
    "import joblib\n",
    "import numpy as np\n",
    "from torchvision.utils import save_image\n",
    "from tqdm.auto import tqdm\n",
    "import torch.distributions as D\n",
    "\n",
    "# --- DecoderSuperDeep, ResBlock, denormalize 정의 필요 ---\n",
    "# (이전 코드와 동일하므로 생략, 실제 실행 시에는 포함해야 함)\n",
    "# ...\n",
    "\n",
    "def calculate_fid_scores():\n",
    "    print(\"--- 3단계: FID 점수 계산 시작 ---\")\n",
    "    DEVICE = torch.device(\"cuda:2\" if torch.cuda.is_available() else \"cpu\")\n",
    "    REAL_DATA_PATH = '/home/nas/data/YMG/datas/celeba_hq_256/'\n",
    "    CHECKPOINT_DIR = '/home/nas/data/YMG/superdeep_ae/my_checkpoints/'\n",
    "    DECODER_PATH = '/home/nas/data/YMG/superdeep_ae/checkpoints/decoder_superdeep_best.pth'\n",
    "    GEN_IMAGES_ROOT = '/home/nas/data/YMG/superdeep_ae/generated_images_for_fid/'\n",
    "    \n",
    "    N_SAMPLES = 10000 # FID 계산을 위한 샘플 수 (시간 관계상 10k로, 권장은 50k)\n",
    "    BATCH_SIZE = 128\n",
    "    \n",
    "    decoder = DecoderSuperDeep().to(DEVICE); decoder.eval()\n",
    "    decoder.load_state_dict(torch.load(DECODER_PATH, map_location=DEVICE))\n",
    "\n",
    "    k_candidates = [10, 20, 40, 80, 160, 320]\n",
    "    fid_results = {}\n",
    "\n",
    "    for k in k_candidates:\n",
    "        print(f\"\\n--- K={k} FID 평가 시작 ---\")\n",
    "        # 1. GMM 모델 로드\n",
    "        model_path = os.path.join(CHECKPOINT_DIR, f'gmm_k_{k}.pkl')\n",
    "        gmm_params = joblib.load(model_path)\n",
    "        weights = torch.from_numpy(gmm_params['weights']).float()\n",
    "        means = torch.from_numpy(gmm_params['means']).float()\n",
    "        covs = torch.from_numpy(gmm_params['covariances']).float()\n",
    "\n",
    "        # 2. 이미지 생성 및 저장\n",
    "        gen_path_k = os.path.join(GEN_IMAGES_ROOT, f'k_{k}')\n",
    "        os.makedirs(gen_path_k, exist_ok=True)\n",
    "        \n",
    "        print(f\"{N_SAMPLES}개 이미지 생성 중...\")\n",
    "        with torch.no_grad():\n",
    "            for i in tqdm(range(0, N_SAMPLES, BATCH_SIZE), leave=False):\n",
    "                # GMM에서 샘플링 (MixtureSameFamily 사용)\n",
    "                mix = D.Categorical(weights)\n",
    "                comp = D.MultivariateNormal(means, covs)\n",
    "                gmm_dist = D.MixtureSameFamily(mix, comp)\n",
    "                z_samples = gmm_dist.sample((BATCH_SIZE,)).to(DEVICE)\n",
    "                \n",
    "                generated_images = decoder(z_samples.view(BATCH_SIZE, 1, 16, 16))\n",
    "                generated_images = (generated_images.clamp(-1, 1) + 1) / 2 # Denormalize\n",
    "                \n",
    "                for j, img in enumerate(generated_images):\n",
    "                    save_image(img, os.path.join(gen_path_k, f'img_{i+j}.png'))\n",
    "\n",
    "        # 3. FID 점수 계산\n",
    "        print(\"FID 점수 계산 중...\")\n",
    "        # pytorch-fid 라이브러리를 시스템 명령어로 호출\n",
    "        command = f'python -m pytorch_fid \"{REAL_DATA_PATH}\" \"{gen_path_k}\" --device {DEVICE}'\n",
    "        \n",
    "        # os.system(command)을 사용하거나 아래처럼 결과값을 가져올 수 있음\n",
    "        import subprocess\n",
    "        result = subprocess.run(command, shell=True, capture_output=True, text=True)\n",
    "        try:\n",
    "            fid_score = float(result.stdout.strip().split(' ')[-1])\n",
    "            fid_results[k] = fid_score\n",
    "            print(f\"K={k} 의 FID 점수: {fid_score:.4f}\")\n",
    "        except (ValueError, IndexError):\n",
    "            print(\"FID 점수를 파싱하는 데 실패했습니다.\")\n",
    "            print(\"STDOUT:\", result.stdout)\n",
    "            print(\"STDERR:\", result.stderr)\n",
    "\n",
    "    print(\"\\n--- 최종 FID 점수 요약 ---\")\n",
    "    for k, score in fid_results.items():\n",
    "        print(f\"K = {k:3d} | FID = {score:.4f}\")\n",
    "\n",
    "if __name__ == '__main__':\n",
    "    calculate_fid_scores()"
   ]
  }
 ],
 "metadata": {
  "kernelspec": {
   "display_name": "GM-env",
   "language": "python",
   "name": "python3"
  },
  "language_info": {
   "codemirror_mode": {
    "name": "ipython",
    "version": 3
   },
   "file_extension": ".py",
   "mimetype": "text/x-python",
   "name": "python",
   "nbconvert_exporter": "python",
   "pygments_lexer": "ipython3",
   "version": "3.9.23"
  }
 },
 "nbformat": 4,
 "nbformat_minor": 5
}
