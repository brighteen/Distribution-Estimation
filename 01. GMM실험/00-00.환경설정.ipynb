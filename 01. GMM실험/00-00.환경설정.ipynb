{
 "cells": [
  {
   "cell_type": "markdown",
   "id": "0b33a329",
   "metadata": {},
   "source": [
    "# 환경설정\n",
    "\n",
    "- pip 대신 conda로 작업하는 가장 큰 이유는 파이썬 패키지 외에 딥러닝에 필수적인 GPU 관련 시스템 라이브러리까지 함께 관리할 수 있기 때문\n",
    "- base에서 conda 환경 업데이트하고 캐시 삭제 후 가상환경 만들고 라이브러리 설치하니까 의존성 해결"
   ]
  },
  {
   "cell_type": "code",
   "execution_count": 2,
   "id": "2be93806",
   "metadata": {},
   "outputs": [
    {
     "name": "stdout",
     "output_type": "stream",
     "text": [
      "True\n"
     ]
    }
   ],
   "source": [
    "# PyTorch 버전 확인:\n",
    "import torch\n",
    "print(torch.cuda.is_available())"
   ]
  },
  {
   "cell_type": "code",
   "execution_count": 3,
   "id": "29c1d5e8",
   "metadata": {},
   "outputs": [
    {
     "name": "stdout",
     "output_type": "stream",
     "text": [
      "12.1\n"
     ]
    }
   ],
   "source": [
    "# PyTorch가 사용하는 CUDA 버전 확인:\n",
    "print(torch.version.cuda)"
   ]
  },
  {
   "cell_type": "code",
   "execution_count": 4,
   "id": "05f7debc",
   "metadata": {},
   "outputs": [
    {
     "name": "stdout",
     "output_type": "stream",
     "text": [
      "nvcc: NVIDIA (R) Cuda compiler driver\n",
      "Copyright (c) 2005-2022 NVIDIA Corporation\n",
      "Built on Wed_Sep_21_10:33:58_PDT_2022\n",
      "Cuda compilation tools, release 11.8, V11.8.89\n",
      "Build cuda_11.8.r11.8/compiler.31833905_0\n"
     ]
    }
   ],
   "source": [
    "!nvcc --version"
   ]
  },
  {
   "cell_type": "code",
   "execution_count": 5,
   "id": "12dbbe9b",
   "metadata": {},
   "outputs": [
    {
     "name": "stdout",
     "output_type": "stream",
     "text": [
      "Mon Aug 25 14:48:35 2025       \n",
      "+---------------------------------------------------------------------------------------+\n",
      "| NVIDIA-SMI 535.183.01             Driver Version: 535.183.01   CUDA Version: 12.2     |\n",
      "|-----------------------------------------+----------------------+----------------------+\n",
      "| GPU  Name                 Persistence-M | Bus-Id        Disp.A | Volatile Uncorr. ECC |\n",
      "| Fan  Temp   Perf          Pwr:Usage/Cap |         Memory-Usage | GPU-Util  Compute M. |\n",
      "|                                         |                      |               MIG M. |\n",
      "|=========================================+======================+======================|\n",
      "|   0  NVIDIA A100-PCIE-40GB          Off | 00000000:3B:00.0 Off |                    0 |\n",
      "| N/A   38C    P0              36W / 250W |     26MiB / 40960MiB |      0%      Default |\n",
      "|                                         |                      |             Disabled |\n",
      "+-----------------------------------------+----------------------+----------------------+\n",
      "|   1  NVIDIA A100-PCIE-40GB          Off | 00000000:5E:00.0 Off |                    0 |\n",
      "| N/A   40C    P0              42W / 250W |     26MiB / 40960MiB |      0%      Default |\n",
      "|                                         |                      |             Disabled |\n",
      "+-----------------------------------------+----------------------+----------------------+\n",
      "|   2  NVIDIA A100-PCIE-40GB          Off | 00000000:86:00.0 Off |                    0 |\n",
      "| N/A   39C    P0              33W / 250W |     26MiB / 40960MiB |      0%      Default |\n",
      "|                                         |                      |             Disabled |\n",
      "+-----------------------------------------+----------------------+----------------------+\n",
      "|   3  NVIDIA A100-PCIE-40GB          Off | 00000000:AF:00.0 Off |                    0 |\n",
      "| N/A   38C    P0              36W / 250W |     26MiB / 40960MiB |      0%      Default |\n",
      "|                                         |                      |             Disabled |\n",
      "+-----------------------------------------+----------------------+----------------------+\n",
      "                                                                                         \n",
      "+---------------------------------------------------------------------------------------+\n",
      "| Processes:                                                                            |\n",
      "|  GPU   GI   CI        PID   Type   Process name                            GPU Memory |\n",
      "|        ID   ID                                                             Usage      |\n",
      "|=======================================================================================|\n",
      "|    0   N/A  N/A      2590      G   /usr/lib/xorg/Xorg                            4MiB |\n",
      "|    0   N/A  N/A      4122      G   /usr/lib/xorg/Xorg                            4MiB |\n",
      "|    1   N/A  N/A      2590      G   /usr/lib/xorg/Xorg                            4MiB |\n",
      "|    1   N/A  N/A      4122      G   /usr/lib/xorg/Xorg                            4MiB |\n",
      "|    2   N/A  N/A      2590      G   /usr/lib/xorg/Xorg                            4MiB |\n",
      "|    2   N/A  N/A      4122      G   /usr/lib/xorg/Xorg                            4MiB |\n",
      "|    3   N/A  N/A      2590      G   /usr/lib/xorg/Xorg                            4MiB |\n",
      "|    3   N/A  N/A      4122      G   /usr/lib/xorg/Xorg                            4MiB |\n",
      "+---------------------------------------------------------------------------------------+\n"
     ]
    }
   ],
   "source": [
    "!nvidia-smi"
   ]
  },
  {
   "cell_type": "code",
   "execution_count": null,
   "id": "f9aaafd2",
   "metadata": {},
   "outputs": [],
   "source": []
  }
 ],
 "metadata": {
  "kernelspec": {
   "display_name": "GM-env",
   "language": "python",
   "name": "python3"
  },
  "language_info": {
   "codemirror_mode": {
    "name": "ipython",
    "version": 3
   },
   "file_extension": ".py",
   "mimetype": "text/x-python",
   "name": "python",
   "nbconvert_exporter": "python",
   "pygments_lexer": "ipython3",
   "version": "3.9.23"
  }
 },
 "nbformat": 4,
 "nbformat_minor": 5
}
