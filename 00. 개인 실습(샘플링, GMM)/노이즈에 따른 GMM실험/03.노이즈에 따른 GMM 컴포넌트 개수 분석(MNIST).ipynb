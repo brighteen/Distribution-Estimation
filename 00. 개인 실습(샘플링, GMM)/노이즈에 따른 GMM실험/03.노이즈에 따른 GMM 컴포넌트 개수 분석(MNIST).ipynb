{
 "cells": [
  {
   "cell_type": "markdown",
   "metadata": {},
   "source": [
    "# 연구 3단계 (GPU 버전): MNIST 데이터셋 환경에서 노이즈와 GMM 복잡도 관계 분석\n",
    "\n",
    "## ⚠️ 실행 전 필수 확인 사항 ⚠️\n",
    "본 노트북은 GPU 가속을 위해 NVIDIA RAPIDS `cuML` 라이브러리를 사용합니다. 실행을 위해서는 NVIDIA GPU 및 관련 `conda` 환경 설정이 필요합니다."
   ]
  },
  {
   "cell_type": "code",
   "execution_count": null,
   "metadata": {},
   "outputs": [],
   "source": [
    "import numpy as np\n",
    "import pandas as pd\n",
    "import matplotlib.pyplot as plt\n",
    "import seaborn as sns\n",
    "from cuml.mixture import GaussianMixture # cuML GMM\n",
    "from cuml.decomposition import PCA       # cuML PCA\n",
    "from tensorflow.keras.datasets import mnist\n",
    "from tqdm.notebook import tqdm\n",
    "import warnings\n",
    "\n",
    "warnings.filterwarnings('ignore')\n",
    "plt.style.use('seaborn-v0_8-whitegrid')\n",
    "plt.rc('font', family='Malgun Gothic')\n",
    "plt.rc('axes', unicode_minus=False)"
   ]
  },
  {
   "cell_type": "markdown",
   "metadata": {},
   "source": [
    "## 1. 실험 조건 설정"
   ]
  },
  {
   "cell_type": "code",
   "execution_count": null,
   "metadata": {},
   "outputs": [],
   "source": [
    "N_RUNS = 30\n",
    "NOISE_LEVELS = [0.0, 0.1, 0.2, 0.3, 0.4, 0.5]\n",
    "N_COMPONENTS_RANGE = range(1, 26)\n",
    "N_PCA_COMPONENTS = 32"
   ]
  },
  {
   "cell_type": "markdown",
   "metadata": {},
   "source": [
    "## 2. MNIST 데이터 로딩 및 BIC 계산 함수 정의"
   ]
  },
  {
   "cell_type": "code",
   "execution_count": null,
   "metadata": {},
   "outputs": [],
   "source": [
    "# MNIST 데이터 로드\n",
    "(x_train, y_train), (x_test, y_test) = mnist.load_data()\n",
    "x_all = np.concatenate([x_train, x_test], axis=0)\n",
    "x_all_flat = x_all.reshape(-1, 28*28) / 255.0\n",
    "\n",
    "def calculate_bic(gmm, data):\n",
    "    \"\"\"cuML GMM 모델에 대한 BIC 점수를 수동으로 계산합니다.\"\"\"\n",
    "    n_samples, n_features = data.shape\n",
    "    n_components = gmm.n_components\n",
    "    \n",
    "    cov_params = n_components * n_features * (n_features + 1) / 2.\n",
    "    mean_params = n_components * n_features\n",
    "    weight_params = n_components - 1\n",
    "    n_params = cov_params + mean_params + weight_params\n",
    "    \n",
    "    log_likelihood = gmm.score(data)\n",
    "    bic = n_params * np.log(n_samples) - 2 * log_likelihood * n_samples\n",
    "    return bic"
   ]
  },
  {
   "cell_type": "markdown",
   "metadata": {},
   "source": [
    "## 3. 핵심 연구 로직 실행 (GPU 가속)"
   ]
  },
  {
   "cell_type": "code",
   "execution_count": null,
   "metadata": {},
   "outputs": [],
   "source": [
    "results = []\n",
    "pca = PCA(n_components=N_PCA_COMPONENTS) # cuML PCA 사용\n",
    "\n",
    "for noise in tqdm(NOISE_LEVELS, desc=\"Noise Levels\"):\n",
    "    optimal_k_for_runs = []\n",
    "    for run in tqdm(range(N_RUNS), desc=f\"Runs for Noise {noise}\", leave=False):\n",
    "        # 1. 원본 이미지에 노이즈 주입\n",
    "        noise_matrix = np.random.randn(*x_all_flat.shape) * noise\n",
    "        x_all_flat_noisy = np.clip(x_all_flat + noise_matrix, 0, 1)\n",
    "        x_all_flat_noisy = x_all_flat_noisy.astype(np.float32)\n",
    "        \n",
    "        # 2. PCA를 이용해 차원 축소 (GPU)\n",
    "        latent_vectors = pca.fit_transform(x_all_flat_noisy)\n",
    "        \n",
    "        # 3. 각 k에 대해 GMM 학습 및 BIC 계산 (GPU)\n",
    "        bics = []\n",
    "        for k in N_COMPONENTS_RANGE:\n",
    "            gmm = GaussianMixture(n_components=k, reg_covar=1e-6)\n",
    "            gmm.fit(latent_vectors)\n",
    "            bic_score = calculate_bic(gmm, latent_vectors)\n",
    "            bics.append(bic_score)\n",
    "            \n",
    "        best_k = N_COMPONENTS_RANGE[np.argmin(bics)]\n",
    "        optimal_k_for_runs.append(best_k)\n",
    "        \n",
    "    results.append({\n",
    "        'noise_level': noise,\n",
    "        'mean_k_opt': np.mean(optimal_k_for_runs),\n",
    "        'std_k_opt': np.std(optimal_k_for_runs)\n",
    "    })\n",
    "\n",
    "results_df_mnist = pd.DataFrame(results)"
   ]
  },
  {
   "cell_type": "markdown",
   "metadata": {},
   "source": [
    "## 4. 결과 분석 및 시각화"
   ]
  },
  {
   "cell_type": "code",
   "execution_count": null,
   "metadata": {},
   "outputs": [],
   "source": [
    "print(\"--- MNIST 실험 결과 (GPU) ---\")\n",
    "print(results_df_mnist[['noise_level', 'mean_k_opt', 'std_k_opt']])\n",
    "\n",
    "plt.figure(figsize=(12, 7))\n",
    "plt.errorbar(\n",
    "    results_df_mnist['noise_level'], \n",
    "    results_df_mnist['mean_k_opt'], \n",
    "    yerr=results_df_mnist['std_k_opt'],\n",
    "    fmt='-D', capsize=5, label='평균 최적 k (오차막대: 1-std)'\n",
    ")\n",
    "plt.title('노이즈 수준에 따른 GMM 최적 컴포넌트 개수 변화 (MNIST 잠재 공간, GPU)', fontsize=16)\n",
    "plt.xlabel('노이즈 수준 (Noise Level)', fontsize=12)\n",
    "plt.ylabel(f'최적 컴포넌트 개수 (평균, N={N_RUNS}회 실행)', fontsize=12)\n",
    "plt.xticks(NOISE_LEVELS)\n",
    "plt.grid(True, which='both', linestyle='--')\n",
    "plt.legend()\n",
    "plt.show()"
   ]
  }
 ],
 "metadata": {
  "kernelspec": {
   "display_name": "Python 3",
   "language": "python",
   "name": "python3"
  }
 },
 "nbformat": 4,
 "nbformat_minor": 4
}